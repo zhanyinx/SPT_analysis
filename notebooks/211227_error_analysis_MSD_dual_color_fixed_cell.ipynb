{
 "cells": [
  {
   "cell_type": "code",
   "execution_count": 1,
   "id": "57090fe0",
   "metadata": {},
   "outputs": [],
   "source": [
    "import pandas as pd\n",
    "import numpy as np\n",
    "import matplotlib.pyplot as plt"
   ]
  },
  {
   "cell_type": "code",
   "execution_count": 19,
   "id": "12d40319",
   "metadata": {},
   "outputs": [],
   "source": [
    "data = pd.read_csv(\"/tungstenfs/scratch/ggiorget/zhan/2021/1105_pia_image_analysis/3d_prediction/msd/20211222_control_line.csv\")\n",
    "\n",
    "exclude = [\"1056dd62f7bb36bc67a3adccf946f302\", \"a57538ccb56095b092045fdd3e4ff57b\", \"e982bd1b676a2b7e9dd9a64342ceb3f1\",]\n",
    "data = data[~(data.uniqueid.isin(exclude))]"
   ]
  },
  {
   "cell_type": "code",
   "execution_count": 21,
   "id": "1c30f0a0",
   "metadata": {},
   "outputs": [
    {
     "data": {
      "text/plain": [
       "0.00824167747149539"
      ]
     },
     "execution_count": 21,
     "metadata": {},
     "output_type": "execute_result"
    }
   ],
   "source": [
    "data[\"tamsd\"].mean()"
   ]
  }
 ],
 "metadata": {
  "kernelspec": {
   "display_name": "Python 3",
   "language": "python",
   "name": "python3"
  },
  "language_info": {
   "codemirror_mode": {
    "name": "ipython",
    "version": 3
   },
   "file_extension": ".py",
   "mimetype": "text/x-python",
   "name": "python",
   "nbconvert_exporter": "python",
   "pygments_lexer": "ipython3",
   "version": "3.7.7"
  }
 },
 "nbformat": 4,
 "nbformat_minor": 5
}
