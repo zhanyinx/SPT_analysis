{
 "cells": [
  {
   "cell_type": "markdown",
   "metadata": {},
   "source": [
    "# Hidden markov model (HMM)\n",
    "\n",
    "The goal is to use to find looped and unlooped states in the data from single particle tracking of dual colors.\n",
    "\n",
    "We will use Gaussian model for emission. \n",
    "Given all the data we fit the all the parameters (gaussian parameters, transition probability between looped/unlooped).\n",
    "\n",
    "Once we have the model, we use the model to predict the states on the datasets.\n",
    "\n",
    "As control, we could use the TetO dual color control line (looped state) and dual color in dCTCF and +auxin (unlooped state)"
   ]
  },
  {
   "cell_type": "code",
   "execution_count": 1,
   "metadata": {},
   "outputs": [],
   "source": [
    "%load_ext autoreload\n",
    "%autoreload 2"
   ]
  },
  {
   "cell_type": "code",
   "execution_count": 2,
   "metadata": {},
   "outputs": [],
   "source": [
    "from hmmlearn import hmm\n",
    "from matplotlib.backends.backend_pdf import PdfPages\n",
    "from utils import *\n",
    "import matplotlib.pyplot as plt\n",
    "import numpy as np\n",
    "import pandas as pd\n",
    "import seaborn as sns\n",
    "import pickle\n",
    "import seaborn as sns"
   ]
  },
  {
   "cell_type": "markdown",
   "metadata": {},
   "source": [
    "### Dual color imaging\n",
    "\n",
    "To estimate the transition probability, we should have data without gaps. However we have gaps from time to time . To cope with this, we filled gaps using the distance of the first previous frame with no missing value. We allow maximum 20\\% of tracks to be with missing values"
   ]
  },
  {
   "cell_type": "code",
   "execution_count": 3,
   "metadata": {},
   "outputs": [],
   "source": [
    "fraction_nan_max = 0.2 # maximum fraction of gaps allowed \n",
    "reproducible = True\n",
    "if reproducible:\n",
    "    np.random.seed(43)"
   ]
  },
  {
   "cell_type": "markdown",
   "metadata": {},
   "source": [
    "From the experimental data we got an error estimate of 140nm on distance. We will set the minimum diagonal of covariance matrix (error on the estimates) to be equal to 100nm (0.1).\n",
    "\n",
    "### Model training"
   ]
  },
  {
   "cell_type": "code",
   "execution_count": 13,
   "metadata": {},
   "outputs": [
    {
     "name": "stdout",
     "output_type": "stream",
     "text": [
      "Average datapoints across trajectories 222.26053639846742\n",
      "number of data points used in the model (58010, 1)\n",
      "Gaussian means: [[0.20772388]\n",
      " [0.43771709]] \n",
      " ------\n",
      "Gaussian std: [0.08786569 0.17637404] \n",
      " ------\n",
      "Transition rates: [[0.96224461 0.03775539]\n",
      " [0.06051074 0.93948926]] \n",
      " ------\n",
      "logProg = 36954.891537031384 \n",
      " ------\n",
      "Starting probability = [7.68578871e-11 1.00000000e+00] \n",
      " ------\n"
     ]
    },
    {
     "data": {
      "image/png": "[encoded data removed]",
      "text/plain": [
       "<Figure size 432x288 with 1 Axes>"
      ]
     },
     "metadata": {
      "needs_background": "light"
     },
     "output_type": "display_data"
    }
   ],
   "source": [
    "basedir = \"/tungstenfs/scratch/ggiorget/zhan/2021/1105_pia_image_analysis/3d_prediction/two_colours_lines/\"\n",
    "name = \"two_colors_distance_30s\"\n",
    "dataset = f\"{basedir}/211129_{name}.csv.zip\"\n",
    "list_cell_lines = [\"1B1\", \"2C11\", \"1A2\"]\n",
    "\n",
    "\n",
    "data = pd.read_csv(dataset)\n",
    "data = data[data.cell_line.isin(list_cell_lines)]\n",
    "# data = data[data.induction_time == \"0min\"]\n",
    "\n",
    "original = pd.DataFrame()\n",
    "length = []\n",
    "for _, sub in data.groupby(\"uniqueid\"):\n",
    "    sub, c = fill_gaps(sub, \"frame\")\n",
    "    \n",
    "    if c / len(sub) < fraction_nan_max:\n",
    "        original = pd.concat([original, sub])\n",
    "        length.append(len(sub))\n",
    "\n",
    "plt.hist(length)\n",
    "plt.xlabel(\"Number of datapoints in the trajectory\")\n",
    "print(f\"Average datapoints across trajectories {np.mean(length)}\")\n",
    "data = original.copy()\n",
    "\n",
    "\n",
    "traj = data[\"distance\"].values\n",
    "\n",
    "# hmm needs as input (obs, nfeatures)\n",
    "traj2d = np.reshape((traj), (-1, 1))\n",
    "print(f\"number of data points used in the model {traj2d.shape}\")\n",
    "\n",
    "# initiate model\n",
    "\n",
    "model = hmm.GaussianHMM(\n",
    "    n_components=2,\n",
    "    covariance_type=\"full\",\n",
    "    min_covar=0.1,\n",
    "    n_iter=10000,\n",
    "    params=\"mtc\",\n",
    "    init_params=\"mtc\",\n",
    ")\n",
    "\n",
    "# instead of fitting\n",
    "model.startprob_ = [0.5, 0.5]\n",
    "model.fit(traj2d)\n",
    "\n",
    "means = model.means_\n",
    "sigmas = np.sqrt(model.covars_.squeeze())\n",
    "w = np.array(model.transmat_)\n",
    "logProb = model.score(traj2d)\n",
    "print(f\"Gaussian means: {means} \\n ------\")\n",
    "print(f\"Gaussian std: {sigmas} \\n ------\")\n",
    "print(f\"Transition rates: {w} \\n ------\")\n",
    "print(f\"logProg = {logProb} \\n ------\")\n",
    "print(f\"Starting probability = {model.startprob_} \\n ------\")\n",
    "\n",
    "with open(f\"{basedir}/hmmmodel_{name}.obj\", \"wb\") as file_model:\n",
    "    pickle.dump(model, file_model)"
   ]
  },
  {
   "cell_type": "code",
   "execution_count": 26,
   "metadata": {},
   "outputs": [
    {
     "data": {
      "text/plain": [
       "(0.0, 2.0)"
      ]
     },
     "execution_count": 26,
     "metadata": {},
     "output_type": "execute_result"
    },
    {
     "data": {
      "image/png": "[encoded data removed]",
      "text/plain": [
       "<Figure size 432x288 with 1 Axes>"
      ]
     },
     "metadata": {
      "needs_background": "light"
     },
     "output_type": "display_data"
    }
   ],
   "source": [
    "fraction_looped_1B1_0min = .95\n",
    "fraction_unlooped_1B1_0min = .05\n",
    "\n",
    "fraction_looped_1B1_120min = .6\n",
    "fraction_unlooped_1B1_120min = .4\n",
    "\n",
    "looped_loc = 0.20772388\n",
    "unlooped_loc = 0.43771709\n",
    "\n",
    "looped_sd = 0.08786569\n",
    "unlooped_sd = 0.17637404\n",
    "\n",
    "size = 100000\n",
    "\n",
    "sample_1B1_0min = np.concatenate([np.random.normal(looped_loc, looped_sd, int(size * fraction_looped_1B1_0min)), np.random.normal(unlooped_loc, unlooped_sd, int(size * fraction_unlooped_1B1_0min))])\n",
    "sample_1B1_120min = np.concatenate([np.random.normal(looped_loc, looped_sd, int(size * fraction_looped_1B1_120min)), np.random.normal(unlooped_loc, unlooped_sd, int(size * fraction_unlooped_1B1_120min))])\n",
    "\n",
    "plt.hist(sample_1B1_0min, bins=np.arange(0, 10, 0.01),alpha=0.2)\n",
    "plt.hist(sample_1B1_120min, bins = np.arange(0, 10, 0.01), alpha=0.2)\n",
    "plt.xlim(0, 2)\n",
    "\n"
   ]
  },
  {
   "cell_type": "code",
   "execution_count": 5,
   "metadata": {},
   "outputs": [],
   "source": [
    "df = pd.DataFrame(model.means_, columns=[\"Gaussian_means\"])\n",
    "df[\"Gaussian_std\"] = sigmas\n",
    "df[\"imaging_type\"] = \"10s\"\n",
    "df[\"state\"] = [\"looped\", \"unlooped\"]"
   ]
  },
  {
   "cell_type": "code",
   "execution_count": 7,
   "metadata": {},
   "outputs": [],
   "source": [
    "df1 = pd.DataFrame(model.means_, columns=[\"Gaussian_means\"])\n",
    "df1[\"Gaussian_std\"] = sigmas\n",
    "df1[\"imaging_type\"] = \"30s\"\n",
    "df1[\"state\"] = [\"looped\", \"unlooped\"]"
   ]
  },
  {
   "cell_type": "code",
   "execution_count": 8,
   "metadata": {},
   "outputs": [],
   "source": [
    "df = pd.concat([df1, df])"
   ]
  },
  {
   "cell_type": "code",
   "execution_count": 9,
   "metadata": {},
   "outputs": [],
   "source": [
    "pdf = PdfPages(f\"{basedir}/hmm_gaussian_parameters.pdf\")"
   ]
  },
  {
   "cell_type": "code",
   "execution_count": 10,
   "metadata": {},
   "outputs": [
    {
     "data": {
      "image/png": "[encoded data removed]",
      "text/plain": [
       "<Figure size 432x288 with 1 Axes>"
      ]
     },
     "metadata": {
      "needs_background": "light"
     },
     "output_type": "display_data"
    }
   ],
   "source": [
    "fig = sns.barplot(data = df, y=\"Gaussian_means\", x= \"imaging_type\", hue=\"state\")\n",
    "pdf.savefig(fig.figure)"
   ]
  },
  {
   "cell_type": "code",
   "execution_count": 11,
   "metadata": {},
   "outputs": [
    {
     "data": {
      "image/png": "[encoded data removed]",
      "text/plain": [
       "<Figure size 432x288 with 1 Axes>"
      ]
     },
     "metadata": {
      "needs_background": "light"
     },
     "output_type": "display_data"
    }
   ],
   "source": [
    "fig = sns.barplot(data = df, y=\"Gaussian_std\", x= \"imaging_type\", hue=\"state\")\n",
    "pdf.savefig(fig.figure)"
   ]
  },
  {
   "cell_type": "code",
   "execution_count": 12,
   "metadata": {},
   "outputs": [],
   "source": [
    "pdf.close()"
   ]
  },
  {
   "cell_type": "code",
   "execution_count": 23,
   "metadata": {},
   "outputs": [],
   "source": [
    "?plt.hist"
   ]
  },
  {
   "cell_type": "code",
   "execution_count": null,
   "metadata": {},
   "outputs": [],
   "source": []
  }
 ],
 "metadata": {
  "kernelspec": {
   "display_name": "Python 3",
   "language": "python",
   "name": "python3"
  },
  "language_info": {
   "codemirror_mode": {
    "name": "ipython",
    "version": 3
   },
   "file_extension": ".py",
   "mimetype": "text/x-python",
   "name": "python",
   "nbconvert_exporter": "python",
   "pygments_lexer": "ipython3",
   "version": "3.7.7"
  }
 },
 "nbformat": 4,
 "nbformat_minor": 4
}
