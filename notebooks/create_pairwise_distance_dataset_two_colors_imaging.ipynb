{
 "cells": [
  {
   "cell_type": "code",
   "execution_count": 1,
   "id": "e5101b5b",
   "metadata": {},
   "outputs": [],
   "source": [
    "import glob\n",
    "import pandas as pd\n",
    "import re\n",
    "import numpy as np\n",
    "import os\n",
    "import datetime\n",
    "import seaborn as sns\n",
    "import matplotlib.pyplot as plt\n",
    "import sys"
   ]
  },
  {
   "cell_type": "markdown",
   "id": "72d895d0",
   "metadata": {},
   "source": [
    "# What does this notebook do?\n",
    "\n",
    "- The first part of the notebook provides the functions to pool multiple pairwise distance datasets from the same condition. \n",
    "\n",
    "- The second part, we apply some filters to the tracks to keep only good part of tracks\n",
    "\n",
    "- The last part provides the functions to calculate the contact duration and the second passage time.\n"
   ]
  },
  {
   "cell_type": "markdown",
   "id": "8d39bb8f",
   "metadata": {},
   "source": [
    "# Pooling datasets"
   ]
  },
  {
   "cell_type": "code",
   "execution_count": 2,
   "id": "2d001c1b",
   "metadata": {},
   "outputs": [],
   "source": [
    "basedir = \"/tungstenfs/scratch/ggiorget/zhan/2021/1105_pia_image_analysis/3d_prediction/two_colours_lines/\"\n",
    "\n",
    "# list_dir = [\"time_acquisition/20211015_two_colour_degron_1s_2d/\"]\n",
    "# outname = \"two_colors_distance_2d_1s.csv\"\n",
    "\n",
    "# list_dir = [\"time_acquisition/20211019_two_colour_degron_3_30s/\"]\n",
    "# outname = \"two_colors_distance_30s.csv\"\n",
    "\n",
    "list_dir = [\n",
    "    \"20210921_two_colour_degron\",\n",
    "    \"20210923_two_colour_degron\",\n",
    "    \"20210927_two_colour_degron\",\n",
    "    \"20210930_two_colour_degron\",\n",
    "]\n",
    "outname = \"two_colors_distance.csv\"\n",
    "\n",
    "list_dir = [f\"{basedir}/{x}\" for x in list_dir]\n",
    "\n",
    "list_files = []\n",
    "\n",
    "for directory in list_dir:\n",
    "    list_files.append(glob.glob(f\"{directory}/tracks_pairwise_with_cellid/*csv\"))\n",
    "\n",
    "list_files = [x for sub in list_files for x in sub]"
   ]
  },
  {
   "cell_type": "code",
   "execution_count": 3,
   "id": "69f98abe",
   "metadata": {},
   "outputs": [],
   "source": [
    "df = pd.DataFrame()\n",
    "\n",
    "for file in list_files:\n",
    "    tmp = pd.read_csv(file)\n",
    "    df = pd.concat([df, tmp])\n",
    "\n",
    "df[[\"date\", \"cell_line\", \"induction_time\", \"rep\", \"motion_correction_type\"]] = df[\n",
    "    \"filename\"\n",
    "].str.extract(\n",
    "    r\"(20[0-9]*)_[\\w\\W_]*?([^_]*)_([^_]*)_[\\d]*?[perc_]*?([0-9])_[\\w\\W]*?_([\\w]*)\\.csv\",\n",
    "    expand=True,\n",
    ")\n",
    "\n",
    "today = datetime.datetime.now().strftime(\"%y%m%d\")\n",
    "\n",
    "df[\"condition\"] = [\n",
    "    f\"{cl}_{time}\" for cl, time in zip(df[\"cell_line\"], df[\"induction_time\"])\n",
    "]"
   ]
  },
  {
   "cell_type": "code",
   "execution_count": 4,
   "id": "6f75e501",
   "metadata": {},
   "outputs": [
    {
     "name": "stdout",
     "output_type": "stream",
     "text": [
      "ntracks: 560\n",
      "av_length: 108.55\n",
      "av_distance: 0.3143500327442566\n"
     ]
    }
   ],
   "source": [
    "ntracks = df[\"uniqueid\"].nunique()\n",
    "av_length = np.mean(df[\"uniqueid\"].value_counts().values)\n",
    "av_distance = np.mean(df[\"distance\"].values)\n",
    "print(f\"ntracks: {ntracks}\")\n",
    "print(f\"av_length: {av_length}\")\n",
    "print(f\"av_distance: {av_distance}\")"
   ]
  },
  {
   "cell_type": "markdown",
   "id": "58180cfa",
   "metadata": {},
   "source": [
    "# Apply filters to tracks "
   ]
  },
  {
   "cell_type": "code",
   "execution_count": 5,
   "id": "29e1654a",
   "metadata": {},
   "outputs": [],
   "source": [
    "min_trackpoints = 25\n",
    "\n",
    "\n",
    "def filter_data(df: pd.DataFrame, min_points: int):\n",
    "    \"\"\"Filter tracks with lower number of points\"\"\"\n",
    "    df_filtered = pd.DataFrame()\n",
    "    for _, sub in df.groupby(\"uniqueid\"):\n",
    "        if len(sub) > min_points:\n",
    "            df_filtered = pd.concat([df_filtered, sub])\n",
    "    return df_filtered\n",
    "\n",
    "\n",
    "# Filter noisy 3D data points\n",
    "\n",
    "distance = np.sqrt(np.sum(np.square(df[[\"x\", \"y\"]].values), axis=1))\n",
    "distance = np.log2(df[\"distance\"] / distance)\n",
    "threshold = np.quantile(distance, 0.95)\n",
    "df = df[distance < threshold]\n",
    "\n",
    "df = filter_data(df, min_trackpoints)"
   ]
  },
  {
   "cell_type": "code",
   "execution_count": 6,
   "id": "110dd18b",
   "metadata": {},
   "outputs": [
    {
     "name": "stdout",
     "output_type": "stream",
     "text": [
      "ntracks: 481\n",
      "av_length: 117.3035343035343\n",
      "av_distance: 0.29731840481692723\n"
     ]
    }
   ],
   "source": [
    "ntracks = df[\"uniqueid\"].nunique()\n",
    "av_length = np.mean(df[\"uniqueid\"].value_counts().values)\n",
    "av_distance = np.mean(df[\"distance\"].values)\n",
    "print(f\"ntracks: {ntracks}\")\n",
    "print(f\"av_length: {av_length}\")\n",
    "print(f\"av_distance: {av_distance}\")"
   ]
  },
  {
   "cell_type": "code",
   "execution_count": 7,
   "id": "ac6bbc83",
   "metadata": {},
   "outputs": [],
   "source": [
    "df.to_csv(f\"{basedir}/{today}_{outname}.zip\", index=False, compression=\"zip\")"
   ]
  },
  {
   "cell_type": "markdown",
   "id": "0916351f",
   "metadata": {},
   "source": [
    "# Calculate the contact duration and second passage time"
   ]
  },
  {
   "cell_type": "code",
   "execution_count": 8,
   "id": "d7f47efc",
   "metadata": {},
   "outputs": [],
   "source": [
    "from utils import *\n",
    "\n",
    "timeresolution = 1\n",
    "max_ngap = 15\n",
    "\n",
    "durations = pd.DataFrame()\n",
    "second_passage_times = pd.DataFrame()\n",
    "\n",
    "for distance in np.arange(0.1, 0.5, 0.05):\n",
    "    duration, second_passage_time = contact_duration_second_passage_time_different_gaps(\n",
    "        df=df, resolution=timeresolution, contact_cutoff=distance, max_ngap=max_ngap\n",
    "    )\n",
    "    duration[\"contact_cutoff\"] = distance\n",
    "    second_passage_time[\"contact_cutoff\"] = distance\n",
    "    durations = pd.concat([durations, duration])\n",
    "    second_passage_times = pd.concat([second_passage_times, second_passage_time])\n",
    "\n",
    "second_passage_times = second_passage_times.drop(\"index\", axis=1)\n",
    "durations = durations.drop(\"index\", axis=1)\n",
    "\n",
    "second_passage_times.to_csv(\n",
    "    f\"{basedir}/{today}_second_passage_time_{outname}.zip\", index=False, compression=\"zip\"\n",
    ")\n",
    "durations.to_csv(f\"{basedir}/{today}_duration_{outname}.zip\", index=False, compression=\"zip\")"
   ]
  },
  {
   "cell_type": "code",
   "execution_count": null,
   "id": "bf614bbd",
   "metadata": {},
   "outputs": [],
   "source": []
  }
 ],
 "metadata": {
  "kernelspec": {
   "display_name": "Python 3",
   "language": "python",
   "name": "python3"
  },
  "language_info": {
   "codemirror_mode": {
    "name": "ipython",
    "version": 3
   },
   "file_extension": ".py",
   "mimetype": "text/x-python",
   "name": "python",
   "nbconvert_exporter": "python",
   "pygments_lexer": "ipython3",
   "version": "3.7.7"
  }
 },
 "nbformat": 4,
 "nbformat_minor": 5
}
