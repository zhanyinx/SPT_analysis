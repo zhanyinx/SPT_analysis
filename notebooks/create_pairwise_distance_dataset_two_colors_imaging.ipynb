{
 "cells": [
  {
   "cell_type": "code",
   "execution_count": 6,
   "id": "e5101b5b",
   "metadata": {},
   "outputs": [],
   "source": [
    "import glob \n",
    "import pandas as pd\n",
    "import re\n",
    "import numpy as np\n",
    "import os\n",
    "import datetime\n",
    "import seaborn as sns\n",
    "import matplotlib.pyplot as plt\n",
    "import sys"
   ]
  },
  {
   "cell_type": "markdown",
   "id": "b240a5fe",
   "metadata": {},
   "source": [
    "# What does this notebook do?\n",
    "\n",
    "The first part of the notebook provides the functions to pool multiple pairwise distance datasets from the same condition. The second part provides the functions to calculate the contact duration and the second passage time.\n"
   ]
  },
  {
   "cell_type": "markdown",
   "id": "ddbdcfb1",
   "metadata": {},
   "source": [
    "# Pooling datasets"
   ]
  },
  {
   "cell_type": "code",
   "execution_count": 38,
   "id": "2d001c1b",
   "metadata": {},
   "outputs": [],
   "source": [
    "basedir = \"/tungstenfs/scratch/ggiorget/zhan/2021/1105_pia_image_analysis/3d_prediction/two_colours_lines/\"\n",
    "\n",
    "#list_dir = [\"time_acquisition/20211019_two_colour_degron_3_30s/\"]\n",
    "#outname = \"two_colors_distance_30s.csv\"\n",
    "\n",
    "list_dir = [\"20210921_two_colour_degron\",\"20210923_two_colour_degron\",\"20210927_two_colour_degron\", \"20210930_two_colour_degron\"]\n",
    "outname = \"two_colors_distance.csv\"\n",
    "\n",
    "list_dir = [f\"{basedir}/{x}\" for x in list_dir]\n",
    "\n",
    "list_files = []\n",
    "\n",
    "for directory in list_dir:\n",
    "    list_files.append(glob.glob(f\"{directory}/tracks_pairwise_with_cellid/*csv\"))\n",
    "    \n",
    "list_files = [x for sub in list_files for x in sub]"
   ]
  },
  {
   "cell_type": "code",
   "execution_count": 39,
   "id": "69f98abe",
   "metadata": {},
   "outputs": [],
   "source": [
    "df = pd.DataFrame()\n",
    "\n",
    "for file in list_files:\n",
    "    tmp = pd.read_csv(file)\n",
    "    df = pd.concat([df, tmp])\n",
    "    \n",
    "df[[\"date\", \"cell_line\", \"induction_time\", \"rep\", \"motion_correction_type\"]] = df[\n",
    "        \"filename\"\n",
    "    ].str.extract(\n",
    "        r\"(20[0-9]*)_[\\w\\W_]*?([^_]*)_([^_]*)_[\\d]*?[perc_]*?([0-9])_[\\w\\W]*?_([\\w]*)\\.csv\",\n",
    "        expand=True,\n",
    "    )\n",
    "\n",
    "today = datetime.datetime.now().strftime(\"%y%m%d\")\n",
    "\n",
    "df['condition'] = [\n",
    "            f\"{cl}_{time}\"\n",
    "            for cl, time in zip(\n",
    "                df[\"cell_line\"],\n",
    "                df[\"induction_time\"])]\n",
    "\n",
    "\n",
    "df.to_csv(f\"{basedir}/{today}_{outname}\", index=False)"
   ]
  },
  {
   "cell_type": "code",
   "execution_count": 40,
   "id": "6f75e501",
   "metadata": {},
   "outputs": [
    {
     "name": "stdout",
     "output_type": "stream",
     "text": [
      "ntracks: 581\n",
      "av_length: 107.99827882960413\n",
      "av_distance: 0.34862952993530966\n"
     ]
    }
   ],
   "source": [
    "ntracks = df['uniqueid'].nunique()\n",
    "av_length = np.mean(df['uniqueid'].value_counts().values)\n",
    "av_distance = np.mean(df['distance'].values)\n",
    "print(f\"ntracks: {ntracks}\")\n",
    "print(f\"av_length: {av_length}\")\n",
    "print(f\"av_distance: {av_distance}\")"
   ]
  },
  {
   "cell_type": "markdown",
   "id": "317b90ce",
   "metadata": {},
   "source": [
    "# Calculate the contact duration and second passage time"
   ]
  },
  {
   "cell_type": "code",
   "execution_count": null,
   "id": "d725251e",
   "metadata": {},
   "outputs": [],
   "source": [
    "from utils import *\n",
    "timeresolution = 10\n",
    "max_ngap = 15\n",
    "\n",
    "durations = pd.DataFrame()\n",
    "second_passage_times = pd.DataFrame()\n",
    "\n",
    "for distance in np.arange(0.1,0.5,0.05):\n",
    "    duration, second_passage_time = contact_duration_second_passage_time_different_gaps(\n",
    "        df=df, resolution=timeresolution, contact_cutoff= distance, max_ngap = max_ngap\n",
    "    )\n",
    "    duration['contact_cutoff'] = distance\n",
    "    second_passage_time['contact_cutoff'] = distance\n",
    "    durations = pd.concat([durations, duration])\n",
    "    second_passage_times = pd.concat([second_passage_times, second_passage_time])\n",
    "    \n",
    "second_passage_times = second_passage_times.drop('index', axis=1)\n",
    "durations = durations.drop('index', axis=1)\n",
    "\n",
    "second_passage_times.to_csv(f\"{basedir}/{today}_second_passage_time_{outname}\", index=False)\n",
    "durations.to_csv(f\"{basedir}/{today}_duration_{outname}\", index=False)\n"
   ]
  },
  {
   "cell_type": "code",
   "execution_count": null,
   "id": "a5342ec3",
   "metadata": {},
   "outputs": [],
   "source": []
  }
 ],
 "metadata": {
  "kernelspec": {
   "display_name": "Python 3",
   "language": "python",
   "name": "python3"
  },
  "language_info": {
   "codemirror_mode": {
    "name": "ipython",
    "version": 3
   },
   "file_extension": ".py",
   "mimetype": "text/x-python",
   "name": "python",
   "nbconvert_exporter": "python",
   "pygments_lexer": "ipython3",
   "version": "3.7.7"
  }
 },
 "nbformat": 4,
 "nbformat_minor": 5
}
