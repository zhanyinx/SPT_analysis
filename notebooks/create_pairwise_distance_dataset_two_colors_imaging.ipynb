{
 "cells": [
  {
   "cell_type": "code",
   "execution_count": 1,
   "id": "e5101b5b",
   "metadata": {},
   "outputs": [],
   "source": [
    "import glob\n",
    "import pandas as pd\n",
    "import re\n",
    "import numpy as np\n",
    "import os\n",
    "import datetime\n",
    "import seaborn as sns\n",
    "import matplotlib.pyplot as plt\n",
    "import sys\n",
    "from utils import fill_gaps\n",
    "from matplotlib.backends.backend_pdf import PdfPages\n",
    "\n",
    "import matplotlib as mpl\n",
    "mpl.rcParams['pdf.fonttype'] = 42"
   ]
  },
  {
   "cell_type": "markdown",
   "id": "72d895d0",
   "metadata": {},
   "source": [
    "# What does this notebook do?\n",
    "\n",
    "- The first part of the notebook provides the functions to pool multiple pairwise distance datasets from the same condition. \n",
    "\n",
    "- The second part, we apply some filters to the tracks to keep only good part of tracks\n",
    "\n"
   ]
  },
  {
   "cell_type": "markdown",
   "id": "8d39bb8f",
   "metadata": {},
   "source": [
    "# Pooling datasets"
   ]
  },
  {
   "cell_type": "code",
   "execution_count": 2,
   "id": "2d001c1b",
   "metadata": {},
   "outputs": [],
   "source": [
    "basedir = \"/tungstenfs/scratch/ggiorget/zhan/2021/1105_pia_image_analysis/3d_prediction/two_colours_lines/hybrid_w1_original_w2_twocolormodel/\"\n",
    "\n",
    "# list_dir = [\"time_acquisition/20211015_two_colour_degron_1s_2d/\"]\n",
    "# outname = \"two_colors_distance_2d_1s.csv\"\n",
    "\n",
    "list_dir = [\n",
    "    \"30s_movies/20211120_two_colour_degron_30s/\",\n",
    "    \"30s_movies/20211122_two_colour_degron_30s/\",\n",
    "    \"30s_movies/20211123_two_colour_degron_30s/\",\n",
    "    \"30s_movies/20211125_two_colour_degron_30s/\",\n",
    "    \"30s_movies/20211126_two_colour_degron_30s/\",\n",
    "    \"30s_movies/20211127_two_colour_degron_30s/\",\n",
    "    \"30s_movies/20211128_two_colour_degron_30s/\",\n",
    "    \"30s_movies/20211129_two_colour_degron_30s/\",\n",
    "    \"30s_movies/20211130_two_colour_degron_30s/\",\n",
    "    \"30s_movies/20211201_two_colour_degron_30s/\",\n",
    "    \"30s_movies/20211202_two_colour_degron_30s/\",\n",
    "    \"30s_movies/20211214_two_colour_degron_30s/\",\n",
    "    \"30s_movies/20211215_two_colour_degron_30s/\",\n",
    "    \"30s_movies/20211216_two_colour_degron_30s/\",\n",
    "    \"30s_movies/20211218_two_colour_degron_30s/\",\n",
    "    \"30s_movies/20211219_two_colour_degron_30s/\",\n",
    "]\n",
    "outname = \"two_colors_distance_30s.csv\"\n",
    "\n",
    "# list_dir = [\n",
    "#     \"20210921_two_colour_degron/\",\n",
    "#     \"20210923_two_colour_degron/\",\n",
    "#     \"20210927_two_colour_degron/\",\n",
    "#     \"20210930_two_colour_degron/\",\n",
    "#     \"20211118_two_colour_degron_10s/\",\n",
    "#     \"20211119_two_colour_degron_10s/\",\n",
    "#     \"20211121_two_colour_degron_10s/\",\n",
    "#     \"20211122_two_colour_degron_10s/\",\n",
    "#     \"20211125_two_colour_degron_10s/\",\n",
    "#     \"20211126_two_colour_degron_10s/\",\n",
    "#     \"20211127_two_colour_degron_10s/\",\n",
    "#     \"20211130_two_colour_degron_10s/\",\n",
    "#     \"20211202_two_colour_degron_10s/\",\n",
    "#     \"20211203_two_colour_degron_10s/\",\n",
    "# ]\n",
    "# outname = \"two_colors_distance_10s.csv\"\n",
    "\n",
    "# list_dir = [\"small_fluctuation_analysis/\"]\n",
    "# outname = \"pairwise_twocolor_control.csv\"\n",
    "\n",
    "# list_dir = [\"time_acquisition/20211117_two_colour_degron_60s/\"]\n",
    "# outname = \"two_colors_distance_60s.csv\"\n",
    "\n",
    "\n",
    "list_dir = [f\"{basedir}/{x}\" for x in list_dir]\n",
    "\n",
    "list_files = []\n",
    "\n",
    "for directory in list_dir:\n",
    "    list_files.append(glob.glob(f\"{directory}/tracks_pairwise_with_cellid/*csv\"))\n",
    "\n",
    "list_files = [x for sub in list_files for x in sub]\n",
    "\n",
    "pdf = PdfPages(f\"{basedir}/{outname}.pdf\")"
   ]
  },
  {
   "cell_type": "code",
   "execution_count": 3,
   "id": "69f98abe",
   "metadata": {},
   "outputs": [],
   "source": [
    "df = pd.DataFrame()\n",
    "\n",
    "for file in list_files:\n",
    "    tmp = pd.read_csv(file)\n",
    "    df = pd.concat([df, tmp])\n",
    "\n",
    "df[[\"date\", \"cell_line\", \"induction_time\", \"rep\", \"motion_correction_type\"]] = df[\n",
    "    \"filename\"\n",
    "].str.extract(\n",
    "    r\"(20[0-9]*)_[\\w\\W_]*?([^_]*)_([^_]*)_[\\d]*?[perc_]*?([0-9])_[\\w\\W]*?_([\\w]*)\\.csv\",\n",
    "    expand=True,\n",
    ")\n",
    "\n",
    "today = datetime.datetime.now().strftime(\"%y%m%d\")\n",
    "\n",
    "df[\"condition\"] = [\n",
    "    f\"{cl}_{time}\" for cl, time in zip(df[\"cell_line\"], df[\"induction_time\"])\n",
    "]"
   ]
  },
  {
   "cell_type": "code",
   "execution_count": 4,
   "id": "6f75e501",
   "metadata": {},
   "outputs": [
    {
     "name": "stdout",
     "output_type": "stream",
     "text": [
      "ntracks: 2225\n",
      "av_length: 134.61123595505617\n",
      "av_distance: 0.32965007365750293\n"
     ]
    }
   ],
   "source": [
    "ntracks = df[\"uniqueid\"].nunique()\n",
    "av_length = np.mean(df[\"uniqueid\"].value_counts().values)\n",
    "av_distance = np.mean(df[\"distance\"].values)\n",
    "print(f\"ntracks: {ntracks}\")\n",
    "print(f\"av_length: {av_length}\")\n",
    "print(f\"av_distance: {av_distance}\")"
   ]
  },
  {
   "cell_type": "markdown",
   "id": "58180cfa",
   "metadata": {},
   "source": [
    "# Apply filters to tracks "
   ]
  },
  {
   "cell_type": "code",
   "execution_count": 5,
   "id": "29e1654a",
   "metadata": {},
   "outputs": [],
   "source": [
    "min_trackpoints = 25\n",
    "\n",
    "\n",
    "def filter_data(df: pd.DataFrame, min_points: int):\n",
    "    \"\"\"Filter tracks with lower number of points\"\"\"\n",
    "    df_filtered = pd.DataFrame()\n",
    "    for _, sub in df.groupby(\"uniqueid\"):\n",
    "        if len(sub) > min_points:\n",
    "            df_filtered = pd.concat([df_filtered, sub])\n",
    "    return df_filtered\n",
    "\n",
    "\n",
    "# Filter noisy 3D data points\n",
    "distance = np.sqrt(np.sum(np.square(df[[\"x\", \"y\"]].values), axis=1))\n",
    "distance = np.log2(df[\"distance\"] / distance)\n",
    "threshold = np.quantile(distance, 0.95)\n",
    "df = df[distance < threshold]\n",
    "\n",
    "df = filter_data(df, min_trackpoints)"
   ]
  },
  {
   "cell_type": "code",
   "execution_count": 6,
   "id": "110dd18b",
   "metadata": {},
   "outputs": [
    {
     "name": "stdout",
     "output_type": "stream",
     "text": [
      "ntracks: 2159\n",
      "av_length: 131.0722556739231\n",
      "av_distance: 0.3230248541277593\n"
     ]
    }
   ],
   "source": [
    "df = df.drop_duplicates()\n",
    "df[\"distance\"] = np.sqrt(np.sum(np.square(df[[\"x\", \"y\", \"z\"]].values), axis=1))\n",
    "ntracks = df[\"uniqueid\"].nunique()\n",
    "av_length = np.mean(df[\"uniqueid\"].value_counts().values)\n",
    "av_distance = np.mean(df[\"distance\"].values)\n",
    "print(f\"ntracks: {ntracks}\")\n",
    "print(f\"av_length: {av_length}\")\n",
    "print(f\"av_distance: {av_distance}\")"
   ]
  },
  {
   "cell_type": "code",
   "execution_count": 7,
   "id": "4df2ff88",
   "metadata": {},
   "outputs": [
    {
     "name": "stdout",
     "output_type": "stream",
     "text": [
      "Number of unique tracks per condition\n"
     ]
    },
    {
     "name": "stderr",
     "output_type": "stream",
     "text": [
      "/tungstenfs/scratch/ggiorget/zhan/bin/anaconda3/envs/hmmlearn/lib/python3.7/site-packages/ipykernel_launcher.py:5: UserWarning: FixedFormatter should only be used together with FixedLocator\n",
      "  \"\"\"\n"
     ]
    },
    {
     "data": {
      "image/png": "[encoded data removed]",
      "text/plain": [
       "<Figure size 432x288 with 1 Axes>"
      ]
     },
     "metadata": {
      "needs_background": "light"
     },
     "output_type": "display_data"
    }
   ],
   "source": [
    "print(\"Number of unique tracks per condition\")\n",
    "a = pd.DataFrame(df.groupby('condition')['uniqueid'].nunique())\n",
    "fig, ax = plt.subplots(1,1)\n",
    "ax.bar(a.index, a['uniqueid'].values)\n",
    "ax.set_xticklabels(a.index, rotation=90)\n",
    "plt.ylabel(\"Number of tracks\")\n",
    "\n",
    "pdf.savefig(fig, bbox_inches = 'tight')"
   ]
  },
  {
   "cell_type": "code",
   "execution_count": 8,
   "id": "237f9251",
   "metadata": {},
   "outputs": [
    {
     "name": "stdout",
     "output_type": "stream",
     "text": [
      "Average distance per line\n"
     ]
    },
    {
     "name": "stderr",
     "output_type": "stream",
     "text": [
      "/tungstenfs/scratch/ggiorget/zhan/bin/anaconda3/envs/hmmlearn/lib/python3.7/site-packages/ipykernel_launcher.py:5: UserWarning: FixedFormatter should only be used together with FixedLocator\n",
      "  \"\"\"\n"
     ]
    },
    {
     "data": {
      "image/png": "[encoded data removed]",
      "text/plain": [
       "<Figure size 432x288 with 1 Axes>"
      ]
     },
     "metadata": {
      "needs_background": "light"
     },
     "output_type": "display_data"
    }
   ],
   "source": [
    "print(\"Average distance per line\")\n",
    "a = pd.DataFrame(df.groupby('condition')['distance'].mean())\n",
    "fig, ax = plt.subplots(1,1)\n",
    "ax.bar(a.index, a['distance'].values)\n",
    "ax.set_xticklabels(a.index, rotation=90)\n",
    "plt.ylabel(\"Average distance\")\n",
    "\n",
    "pdf.savefig(fig, bbox_inches = 'tight')"
   ]
  },
  {
   "cell_type": "code",
   "execution_count": 9,
   "id": "99f091a1",
   "metadata": {},
   "outputs": [],
   "source": [
    "basedir = \"/tungstenfs/scratch/ggiorget/zhan/2021/1105_pia_image_analysis/3d_prediction/two_colours_lines/\"\n",
    "df.drop_duplicates().to_csv(f\"{basedir}/{today}_{outname}.zip\", index=False, compression=\"zip\")\n",
    "pdf.close()"
   ]
  },
  {
   "cell_type": "code",
   "execution_count": 10,
   "id": "ad2784a7",
   "metadata": {},
   "outputs": [],
   "source": [
    "def myread(file):\n",
    "    data = pd.read_csv(file)\n",
    "    data[\"z\"] = data[[\"date\", \"z\"]].groupby(\"date\").apply(lambda x: x-np.mean(x))[\"z\"]\n",
    "    data[\"x\"] = data[[\"date\", \"x\"]].groupby(\"date\").apply(lambda x: x-np.mean(x))[\"x\"]\n",
    "    data[\"y\"] = data[[\"date\", \"y\"]].groupby(\"date\").apply(lambda x: x-np.mean(x))[\"y\"]\n",
    "    data[\"distance\"] = np.sqrt(np.sum(np.square(data[[\"x\", \"y\", \"z\"]].values), axis=1))\n",
    "    return data\n",
    "\n",
    "\n",
    "data = myread(f\"{basedir}/211129_two_colors_distance_30s.csv.zip\")\n",
    "data.to_csv(f\"{basedir}/220630_{outname}.zip\", index=False, compression=\"zip\")"
   ]
  },
  {
   "cell_type": "code",
   "execution_count": 5,
   "id": "194482e1",
   "metadata": {},
   "outputs": [],
   "source": [
    "basedir = \"/tungstenfs/scratch/ggiorget/zhan/2021/1105_pia_image_analysis/3d_prediction/two_colours_lines/\"\n",
    "def myread(file):\n",
    "    data = pd.read_csv(file)\n",
    "    data[\"z\"] = data[[\"date\", \"z\"]].groupby(\"date\").apply(lambda x: x-np.mean(x))[\"z\"]\n",
    "    data[\"x\"] = data[[\"date\", \"x\"]].groupby(\"date\").apply(lambda x: x-np.mean(x))[\"x\"]\n",
    "    data[\"y\"] = data[[\"date\", \"y\"]].groupby(\"date\").apply(lambda x: x-np.mean(x))[\"y\"]\n",
    "    data[\"distance\"] = np.sqrt(np.sum(np.square(data[[\"x\", \"y\", \"z\"]].values), axis=1))\n",
    "    return data\n",
    "\n",
    "\n",
    "data = myread(f\"{basedir}/211129_two_colors_distance_30s.csv.zip\")\n",
    "data_uncorr = pd.read_csv(f\"{basedir}/211129_two_colors_distance_30s.csv.zip\")"
   ]
  },
  {
   "cell_type": "code",
   "execution_count": 6,
   "id": "546d8fe1",
   "metadata": {},
   "outputs": [
    {
     "data": {
      "text/plain": [
       "condition\n",
       "1A2_0min       0.278819\n",
       "1A2_120min     0.386994\n",
       "1A8_0min       0.216885\n",
       "1A8_120min     0.369950\n",
       "1B1_0min       0.195393\n",
       "1B1_120min     0.357297\n",
       "1D12_0min      0.270042\n",
       "1D12_120min    0.377239\n",
       "1F4_0min       0.270099\n",
       "1F4_120min     0.399319\n",
       "Name: distance, dtype: float64"
      ]
     },
     "execution_count": 6,
     "metadata": {},
     "output_type": "execute_result"
    }
   ],
   "source": [
    "data.groupby('condition')['distance'].mean()"
   ]
  },
  {
   "cell_type": "code",
   "execution_count": 18,
   "id": "89038721",
   "metadata": {},
   "outputs": [
    {
     "data": {
      "image/png": "[encoded data removed]",
      "text/plain": [
       "<Figure size 432x288 with 1 Axes>"
      ]
     },
     "metadata": {
      "needs_background": "light"
     },
     "output_type": "display_data"
    }
   ],
   "source": [
    "(data_uncorr.groupby('condition')['distance'].mean()/data.groupby('condition')['distance'].mean() - 1).plot(kind=\"bar\")\n",
    "plt.savefig(\"zerror_40nm_effect_on_average_distance.pdf\", bbox_inches='tight')"
   ]
  },
  {
   "cell_type": "code",
   "execution_count": null,
   "id": "f58b5d08",
   "metadata": {},
   "outputs": [],
   "source": [
    "resampled = pd.DataFrame()\n",
    "df = df.drop_duplicates()\n",
    "for _, sub in df.groupby(\"uniqueid\"):\n",
    "    tmp = sub.iloc[::3].copy()\n",
    "    tmp.frame = tmp.frame.values // 3\n",
    "    resampled = pd.concat([resampled, tmp])\n",
    "resampled.drop_duplicates().to_csv(f\"{basedir}/{today}_{outname}.resampled_30s.zip\", index=False, compression=\"zip\")"
   ]
  },
  {
   "cell_type": "code",
   "execution_count": null,
   "id": "7fc0e646",
   "metadata": {},
   "outputs": [],
   "source": [
    "import seaborn as sns\n",
    "df['condition'] = df['date']\n",
    "sub = df[(df['cell_line'] == \"1A2\") & (df['induction_time'] == \"0min\")]\n",
    "sub.head()"
   ]
  },
  {
   "cell_type": "code",
   "execution_count": null,
   "id": "3112a9e1",
   "metadata": {},
   "outputs": [],
   "source": [
    "sns.ecdfplot(sub, x=\"distance\", hue=\"condition\")"
   ]
  },
  {
   "cell_type": "code",
   "execution_count": null,
   "id": "755442e1",
   "metadata": {},
   "outputs": [],
   "source": []
  }
 ],
 "metadata": {
  "kernelspec": {
   "display_name": "Python 3 (ipykernel)",
   "language": "python",
   "name": "python3"
  },
  "language_info": {
   "codemirror_mode": {
    "name": "ipython",
    "version": 3
   },
   "file_extension": ".py",
   "mimetype": "text/x-python",
   "name": "python",
   "nbconvert_exporter": "python",
   "pygments_lexer": "ipython3",
   "version": "3.7.0"
  }
 },
 "nbformat": 4,
 "nbformat_minor": 5
}
