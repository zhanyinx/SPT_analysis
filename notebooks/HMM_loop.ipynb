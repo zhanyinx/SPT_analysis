{
 "cells": [
  {
   "cell_type": "markdown",
   "metadata": {},
   "source": [
    "# Hidden markov model (HMM)\n",
    "\n",
    "The goal is to use to find looped and unlooped states in the data from single particle tracking of dual colors.\n",
    "\n",
    "We will use Gaussian model for emission. \n",
    "Given all the data we fit the all the parameters (gaussian parameters, transition probability between looped/unlooped).\n",
    "\n",
    "Once we have the model, we use the model to predict the states on the different datasets.\n",
    "\n",
    "As control, we could use the TetO dual color control line (looped state) and dual color in dCTCF and +auxin (unlooped state)"
   ]
  },
  {
   "cell_type": "code",
   "execution_count": 1,
   "metadata": {},
   "outputs": [],
   "source": [
    "%load_ext autoreload\n",
    "%autoreload 2"
   ]
  },
  {
   "cell_type": "code",
   "execution_count": 2,
   "metadata": {},
   "outputs": [],
   "source": [
    "from hmmlearn import hmm\n",
    "from matplotlib.backends.backend_pdf import PdfPages\n",
    "from utils import *\n",
    "import matplotlib.pyplot as plt\n",
    "import numpy as np\n",
    "import pandas as pd\n",
    "import seaborn as sns\n",
    "import pickle"
   ]
  },
  {
   "cell_type": "markdown",
   "metadata": {},
   "source": [
    "### Dual color imaging at 10s\n",
    "\n",
    "To estimate the transition probability, we should have data without gaps. However we have gaps from time to time . To cope with this, we filled gaps using the distance of the first previous frame with no missing value. We allow maximum 10\\% of tracks to be with missing values"
   ]
  },
  {
   "cell_type": "code",
   "execution_count": 3,
   "metadata": {},
   "outputs": [],
   "source": [
    "fraction_nan_max = 0.1 # maximum fraction of gaps allowed \n",
    "reproducible = True\n",
    "if reproducible:\n",
    "    np.random.seed(43)"
   ]
  },
  {
   "cell_type": "markdown",
   "metadata": {},
   "source": [
    "From the experimental data we got an error estimate of 170nm on distance. We will set the minimum diagonal of covariance matrix (error on the estimates) to be equal to 100nm (0.1).\n",
    "\n",
    "### Model training"
   ]
  },
  {
   "cell_type": "code",
   "execution_count": 4,
   "metadata": {},
   "outputs": [
    {
     "name": "stdout",
     "output_type": "stream",
     "text": [
      "Average datapoints across trajectories 165.45065789473685\n",
      "number of data points used in the model (50297, 1)\n",
      "Gaussian means: [[0.21306088]\n",
      " [0.51567288]] \n",
      " ------\n",
      "Gaussian std: [0.08941515 0.21566563] \n",
      " ------\n",
      "Transition rates: [[0.98027173 0.01972827]\n",
      " [0.04193545 0.95806455]] \n",
      " ------\n",
      "logProg = 31872.106716037917 \n",
      " ------\n",
      "Starting probability = [0.5 0.5] \n",
      " ------\n"
     ]
    },
    {
     "data": {
      "image/png": "[encoded data removed]",
      "text/plain": [
       "<Figure size 432x288 with 1 Axes>"
      ]
     },
     "metadata": {
      "needs_background": "light"
     },
     "output_type": "display_data"
    }
   ],
   "source": [
    "basedir = \"/tungstenfs/scratch/ggiorget/zhan/2021/1105_pia_image_analysis/3d_prediction/two_colours_lines/\"\n",
    "name = \"two_colors_distance_10s\"\n",
    "dataset = f\"{basedir}/211126_{name}.csv.zip\"\n",
    "\n",
    "data = pd.read_csv(dataset)\n",
    "\n",
    "original = pd.DataFrame()\n",
    "length = []\n",
    "for _, sub in data.groupby(\"uniqueid\"):\n",
    "    sub, c = fill_gaps(sub, \"frame\")\n",
    "    if c / len(sub) < fraction_nan_max:\n",
    "        original = pd.concat([original, sub])\n",
    "        length.append(len(sub))\n",
    "\n",
    "plt.hist(length)\n",
    "plt.xlabel(\"Number of datapoints in the trajectory\")\n",
    "print(f\"Average datapoints across trajectories {np.mean(length)}\")\n",
    "data = original.copy()\n",
    "\n",
    "\n",
    "traj = data[\"distance\"].values\n",
    "\n",
    "# hmm needs as input (obs, nfeatures)\n",
    "traj2d = np.reshape((traj), (-1, 1))\n",
    "print(f\"number of data points used in the model {traj2d.shape}\")\n",
    "\n",
    "# initiate model\n",
    "\n",
    "model = hmm.GaussianHMM(\n",
    "    n_components=2,\n",
    "    covariance_type=\"full\",\n",
    "    min_covar=0.1,\n",
    "    n_iter=10000,\n",
    "    params=\"mtc\",\n",
    "    init_params=\"mtc\",\n",
    ")\n",
    "\n",
    "# instead of fitting\n",
    "model.startprob_ = [0.5, 0.5]\n",
    "model.fit(traj2d)\n",
    "\n",
    "means = model.means_\n",
    "sigmas = np.sqrt(model.covars_.squeeze())\n",
    "w = np.array(model.transmat_)\n",
    "logProb = model.score(traj2d)\n",
    "print(f\"Gaussian means: {means} \\n ------\")\n",
    "print(f\"Gaussian std: {sigmas} \\n ------\")\n",
    "print(f\"Transition rates: {w} \\n ------\")\n",
    "print(f\"logProg = {logProb} \\n ------\")\n",
    "print(f\"Starting probability = {model.startprob_} \\n ------\")\n",
    "\n",
    "with open(f\"{basedir}/hmmmodel_{name}.obj\", \"wb\") as file_model:\n",
    "    pickle.dump(model, file_model)"
   ]
  },
  {
   "cell_type": "code",
   "execution_count": null,
   "metadata": {},
   "outputs": [],
   "source": []
  }
 ],
 "metadata": {
  "kernelspec": {
   "display_name": "Python 3",
   "language": "python",
   "name": "python3"
  },
  "language_info": {
   "codemirror_mode": {
    "name": "ipython",
    "version": 3
   },
   "file_extension": ".py",
   "mimetype": "text/x-python",
   "name": "python",
   "nbconvert_exporter": "python",
   "pygments_lexer": "ipython3",
   "version": "3.7.7"
  }
 },
 "nbformat": 4,
 "nbformat_minor": 4
}
