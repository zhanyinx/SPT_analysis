{
 "cells": [
  {
   "cell_type": "markdown",
   "metadata": {},
   "source": [
    "# Hidden markov model (HMM)\n",
    "\n",
    "We show how contact duration, passage time and frequencies depend on the distance between ctcf sites. We consider only the best set of parameters in the presence of extruders and barriers. We calculate the model for 150kb and apply it to all other setups."
   ]
  },
  {
   "cell_type": "code",
   "execution_count": 1,
   "metadata": {},
   "outputs": [],
   "source": [
    "%load_ext autoreload\n",
    "%autoreload 2"
   ]
  },
  {
   "cell_type": "code",
   "execution_count": 2,
   "metadata": {},
   "outputs": [],
   "source": [
    "from hmmlearn import hmm\n",
    "from matplotlib.backends.backend_pdf import PdfPages\n",
    "from utils import *\n",
    "import matplotlib.pyplot as plt\n",
    "from matplotlib import cm\n",
    "import numpy as np\n",
    "import pandas as pd\n",
    "import seaborn as sns\n",
    "import pickle\n",
    "import glob\n",
    "import pathlib\n",
    "import gdown\n",
    "import os\n",
    "import zipfile\n",
    "import matplotlib\n",
    "import matplotlib.colors as mcolors\n",
    "\n",
    "matplotlib.rcParams[\"pdf.fonttype\"] = 42"
   ]
  },
  {
   "cell_type": "code",
   "execution_count": 3,
   "metadata": {},
   "outputs": [],
   "source": [
    "reproducible = True\n",
    "distance_conversion = 0.012 * np.sqrt(40)  # 1 a.u. = 0.08 um\n",
    "rolling = 1\n",
    "if reproducible:\n",
    "    seed = 42\n",
    "    np.random.seed(seed)\n",
    "subsample = False\n",
    "\n",
    "if subsample:\n",
    "    number_subsample = 200000"
   ]
  },
  {
   "cell_type": "markdown",
   "metadata": {},
   "source": [
    "# Reading simulated data"
   ]
  },
  {
   "cell_type": "code",
   "execution_count": 4,
   "metadata": {
    "scrolled": true
   },
   "outputs": [],
   "source": [
    "dataset_name = \"tad_sizes\"\n",
    "basedir = f\"./{dataset_name}/\"\n",
    "# create a folder\n",
    "pathlib.Path(basedir).mkdir(parents=True, exist_ok=True)\n",
    "# basedir = \"/tungstenfs/scratch/ggiorget/pavel/code_projects/systematic_chrodyn_simulations/langevin_simulations/analysis_sweep/revision1/diff_tads/\"\n",
    "sample_link = (\n",
    "    \"https://drive.google.com/uc?export=download&id=1hnxHHv08_yVkWxMPXyt6PCeJpxja75p9\"\n",
    ")\n",
    "# download data if not already present\n",
    "if not os.path.isfile(basedir + f\"{dataset_name}.zip\"):\n",
    "    gdown.download(sample_link, basedir + f\"{dataset_name}.zip\")\n",
    "# unzip the data\n",
    "with zipfile.ZipFile(basedir + f\"{dataset_name}.zip\", \"r\") as zip_ref:\n",
    "    zip_ref.extractall(basedir)\n",
    "list_files = glob.glob(f\"{basedir}/diff_tads_data/*/*/*/*/*/*/dst_bnd.dat\")\n",
    "\n",
    "filenames = pd.DataFrame(list_files, columns=[\"filename\"])\n",
    "filenames[[\"tad_size\", \"ctcf\", \"speed\", \"loading\", \"unloading\", \"rep\"]] = filenames[\n",
    "    \"filename\"\n",
    "].str.extract(\n",
    "    r\"diff_tads_data\\/([\\d+]*)\\/([\\w+]*)\\/([\\d+]*)\\/([\\d]\\.[\\d+]*)\\/([\\d]\\.[\\d+]*)\\/([\\d+]*)\\/\",\n",
    "    expand=True,\n",
    ")\n",
    "conversion_kb_to_beads = {\n",
    "    \"100\": \"12\",\n",
    "    \"150\": \"18\",\n",
    "    \"250\": \"29\",\n",
    "    \"500\": \"61\",\n",
    "    \"1000\": \"123\",\n",
    "}\n",
    "conversion_beads_to_kb = {\"12\": 100, \"18\": 150, \"29\": 250, \"61\": 500, \"123\": 1000}\n",
    "conversion_beads_to_kb_int = {int(k): int(v) for k, v in conversion_beads_to_kb.items()}\n",
    "filenames = filenames.replace({\"tad_size\": conversion_kb_to_beads})\n",
    "\n",
    "filenames[\"condition\"] = (\n",
    "    filenames[\"tad_size\"]\n",
    "    + \"_\"\n",
    "    + filenames[\"speed\"]\n",
    "    + \".\"\n",
    "    + filenames[\"loading\"]\n",
    "    + \"_\"\n",
    "    + filenames[\"unloading\"]\n",
    ")\n",
    "filenames[\"uniqueid\"] = (\n",
    "    filenames[\"tad_size\"]\n",
    "    + \"_\"\n",
    "    + \"ctcf\"\n",
    "    + filenames[\"ctcf\"]\n",
    "    + \".\"\n",
    "    + \"rad21\"\n",
    "    + \"on\"\n",
    "    + \"_\"\n",
    "    + filenames[\"speed\"]\n",
    "    + \".\"\n",
    "    + filenames[\"loading\"]\n",
    "    + \".\"\n",
    "    + filenames[\"unloading\"]\n",
    "    + \".\"\n",
    "    + filenames[\"rep\"]\n",
    ")"
   ]
  },
  {
   "cell_type": "code",
   "execution_count": 5,
   "metadata": {},
   "outputs": [],
   "source": [
    "all_tad_sizes_dataset_orig = []\n",
    "for tad_size, sub3 in filenames.groupby(\"tad_size\"):\n",
    "    alldf = []\n",
    "    for condition, sub2 in sub3.groupby(\"condition\"):\n",
    "        for uniqueid, sub1 in sub2.groupby(\"uniqueid\"):\n",
    "            for ct, sub in sub1.groupby(\"ctcf\"):\n",
    "                for file in sub.filename.unique():\n",
    "                    tmp = pd.read_csv(file, sep=\" \")\n",
    "                    tmp.distance = tmp.distance * distance_conversion\n",
    "                    try:\n",
    "                        tmp.drop(\n",
    "                            [\"x1\", \"y1\", \"z1\", \"x2\", \"y2\", \"z2\"], axis=1, inplace=True\n",
    "                        )\n",
    "                    except:\n",
    "                        pass\n",
    "                    tmp[\"tad_size\"] = tad_size\n",
    "                    tmp[\"condition\"] = condition\n",
    "                    tmp[\"frame\"] = np.arange(len(tmp))\n",
    "                    tmp[\"uniqueid\"] = uniqueid\n",
    "                    tmp[\"ctcf\"] = ct\n",
    "                    tmp[\"rad21\"] = \"on\"\n",
    "                    if subsample:\n",
    "                        tmp = tmp.head(number_subsample)\n",
    "                    #                 distances_original = pd.concat([distances_original, tmp])\n",
    "                    alldf.append(tmp)\n",
    "    distances_original = pd.concat(alldf)\n",
    "    all_tad_sizes_dataset_orig.append(distances_original)"
   ]
  },
  {
   "cell_type": "markdown",
   "metadata": {},
   "source": [
    "# Subsampling  to 30s and training 2 state hmm"
   ]
  },
  {
   "cell_type": "code",
   "execution_count": 6,
   "metadata": {},
   "outputs": [],
   "source": [
    "# choose neighbors\n",
    "nneighbor = 2\n",
    "subsample_every = 30\n",
    "all_tad_sizes_dataset = []\n",
    "idx = []\n",
    "for distances in all_tad_sizes_dataset_orig:\n",
    "    tad_size = int(distances.tad_size.unique()[0])\n",
    "    idx = (\n",
    "        np.where(\n",
    "            np.array([abs(eval(x)) for x in distances.columns[1:][:-7]])\n",
    "            >= tad_size - nneighbor\n",
    "        )[0]\n",
    "        + 1\n",
    "    )\n",
    "    distances[\"bond\"] = distances.iloc[:, idx].sum(axis=1)\n",
    "    distances.loc[distances[\"bond\"] > 1, \"bond\"] = 1\n",
    "\n",
    "    distances = distances.iloc[::subsample_every].copy()\n",
    "    distances.bond = 1 - distances.bond.values\n",
    "    distances_nonoise = distances.copy()\n",
    "    # add experimental noise\n",
    "    seed = 0\n",
    "    np.random.seed(seed)\n",
    "    distances.distance = distances.distance.values + np.random.normal(\n",
    "        loc=0.0, scale=0.064, size=len(distances)\n",
    "    )\n",
    "    distances.frame = distances.frame.values / subsample_every\n",
    "    all_tad_sizes_dataset.append(distances)"
   ]
  },
  {
   "cell_type": "code",
   "execution_count": 7,
   "metadata": {},
   "outputs": [],
   "source": [
    "# run HMM training on all conditions\n",
    "results = {}\n",
    "np.random.seed(seed)\n",
    "for distances in all_tad_sizes_dataset:\n",
    "    for condition, sub in distances.groupby(\"condition\"):\n",
    "        traj2d = np.reshape(\n",
    "            sub[sub.ctcf == \"on\"].distance.to_numpy(),\n",
    "            (-1, 1),\n",
    "        )\n",
    "        #        model = hmm.GaussianHMM(\n",
    "        #            n_components=2,\n",
    "        #            covariance_type=\"full\",\n",
    "        #            min_covar=0.1,\n",
    "        #            n_iter=10000,\n",
    "        #            params=\"mtc\",\n",
    "        #            init_params=\"mtc\",\n",
    "        #            hack=True,\n",
    "        #            hack_mean=0.15507389,\n",
    "        #            hack_covar=0.00775845,\n",
    "        #        )\n",
    "        # print(model.covariance_type)\n",
    "        model = hmm.GaussianHMM(\n",
    "            n_components=2,\n",
    "            covariance_type=\"full\",\n",
    "            min_covar=0.1,\n",
    "            n_iter=10000,\n",
    "            params=\"t\",\n",
    "            init_params=\"t\",\n",
    "        )\n",
    "        model.means_ = [[0.17922608], [0.43435689]]  # 18 beads\n",
    "        # [[0.15507389], [0.39257526]] # 12 beads\n",
    "\n",
    "        model.covars_ = [[[0.00921505]], [[0.01828777]]]  # 18 beads\n",
    "        # [[[0.00775845]], [[0.01408439]]] # 12 beads\n",
    "\n",
    "        # instead of fitting\n",
    "        model.startprob_ = [0.5, 0.5]\n",
    "        model.fit(traj2d)\n",
    "\n",
    "        results[condition] = model\n",
    "models2hmm = results.copy()"
   ]
  },
  {
   "cell_type": "code",
   "execution_count": 8,
   "metadata": {},
   "outputs": [
    {
     "name": "stdout",
     "output_type": "stream",
     "text": [
      "tad-ctcf-speed-loading-unloading = 12_17500.0.05_0.01\n",
      "Gaussian means: [[0.17922608]\n",
      " [0.43435689]]\n",
      "Gaussian std: [0.09599505 0.13523228]\n",
      "Gaussian covars_ [[[0.00921505]]\n",
      "\n",
      " [[0.01828777]]]\n",
      "Transition rates: [[0.96219416 0.03780584]\n",
      " [0.06083393 0.93916607]]\n",
      "----------\n",
      "\n",
      "tad-ctcf-speed-loading-unloading = 123_17500.0.05_0.01\n",
      "Gaussian means: [[0.17922608]\n",
      " [0.43435689]]\n",
      "Gaussian std: [0.09599505 0.13523228]\n",
      "Gaussian covars_ [[[0.00921505]]\n",
      "\n",
      " [[0.01828777]]]\n",
      "Transition rates: [[7.07232977e-01 2.92767023e-01]\n",
      " [2.19453991e-09 9.99999998e-01]]\n",
      "----------\n",
      "\n",
      "tad-ctcf-speed-loading-unloading = 18_17500.0.05_0.01\n",
      "Gaussian means: [[0.17922608]\n",
      " [0.43435689]]\n",
      "Gaussian std: [0.09599505 0.13523228]\n",
      "Gaussian covars_ [[[0.00921505]]\n",
      "\n",
      " [[0.01828777]]]\n",
      "Transition rates: [[0.96122776 0.03877224]\n",
      " [0.04823642 0.95176358]]\n",
      "----------\n",
      "\n",
      "tad-ctcf-speed-loading-unloading = 29_17500.0.05_0.01\n",
      "Gaussian means: [[0.17922608]\n",
      " [0.43435689]]\n",
      "Gaussian std: [0.09599505 0.13523228]\n",
      "Gaussian covars_ [[[0.00921505]]\n",
      "\n",
      " [[0.01828777]]]\n",
      "Transition rates: [[0.94105407 0.05894593]\n",
      " [0.04796988 0.95203012]]\n",
      "----------\n",
      "\n",
      "tad-ctcf-speed-loading-unloading = 61_17500.0.05_0.01\n",
      "Gaussian means: [[0.17922608]\n",
      " [0.43435689]]\n",
      "Gaussian std: [0.09599505 0.13523228]\n",
      "Gaussian covars_ [[[0.00921505]]\n",
      "\n",
      " [[0.01828777]]]\n",
      "Transition rates: [[0.90155611 0.09844389]\n",
      " [0.0099456  0.9900544 ]]\n",
      "----------\n",
      "\n"
     ]
    }
   ],
   "source": [
    "# reorder HMM model such that the first gaussian is always the lowest\n",
    "for key, model in results.items():\n",
    "    newmodel = reorder_hmm_model_parameters(model)\n",
    "    model = newmodel\n",
    "    means = model.means_\n",
    "    sigmas = np.sqrt(model.covars_.squeeze())\n",
    "    w = np.array(model.transmat_)\n",
    "    logProb = model.score(traj2d)\n",
    "    print(f\"tad-ctcf-speed-loading-unloading = {key}\")\n",
    "    print(f\"Gaussian means: {means}\")\n",
    "    print(f\"Gaussian std: {sigmas}\")\n",
    "    print(f\"Gaussian covars_ {model.covars_}\")\n",
    "    print(f\"Transition rates: {w}\")\n",
    "    print(\"----------\\n\")"
   ]
  },
  {
   "cell_type": "markdown",
   "metadata": {},
   "source": [
    "# Reading experimental data"
   ]
  },
  {
   "cell_type": "code",
   "execution_count": 9,
   "metadata": {},
   "outputs": [
    {
     "name": "stderr",
     "output_type": "stream",
     "text": [
      "Downloading...\n",
      "From: https://drive.google.com/uc?export=download&id=1oGTB_Ml4RQpwCeHackjYd2Tc_MDd6sqm\n",
      "To: /tungstenfs/scratch/ggiorget/pavel/code_projects/systematic_chrodyn_simulations/langevin_simulations/analysis_sweep/revision1/diff_tads/211221_two_colors_distance_30s.csv/hmmmodel_two_colors_distance_30s.obj\n",
      "100%|████████████████████████████████████████████████████████████████████████████████████████████████████████████████| 1.46k/1.46k [00:00<00:00, 7.32MB/s]\n"
     ]
    }
   ],
   "source": [
    "dataset = \"211221_two_colors_distance_30s.csv\"\n",
    "basedir = f\"./{dataset}/\"\n",
    "# create a folder\n",
    "pathlib.Path(basedir).mkdir(parents=True, exist_ok=True)\n",
    "sample_link = (\n",
    "    \"https://drive.google.com/uc?export=download&id=1szF0P4OcA0X8WoPha5CKjo0sCLhJnrtX\"\n",
    ")\n",
    "if not os.path.isfile(f\"{basedir}{dataset}.zip\"):\n",
    "    gdown.download(sample_link, f\"{basedir}{dataset}.zip\")\n",
    "# unzip the data\n",
    "with zipfile.ZipFile(f\"{basedir}{dataset}.zip\", \"r\") as zip_ref:\n",
    "    zip_ref.extractall(basedir)\n",
    "\n",
    "list_cell_lines = [\"1A2\", \"1B1\"]\n",
    "bins = np.arange(30, 10000, 150)\n",
    "\n",
    "# download pretrained hmm model\n",
    "gdown.download(\n",
    "    \"https://drive.google.com/uc?export=download&id=1oGTB_Ml4RQpwCeHackjYd2Tc_MDd6sqm\",\n",
    "    f\"{basedir}hmmmodel_two_colors_distance_30s.obj\",\n",
    ")\n",
    "with open(f\"{basedir}/hmmmodel_two_colors_distance_30s.obj\", \"rb\") as f:\n",
    "    exp_model = pickle.load(f)\n",
    "\n",
    "exp = pd.read_csv(f\"{basedir}{dataset}\")\n",
    "exp = exp[exp.cell_line.isin(list_cell_lines)]\n",
    "exp[\"condition\"] = exp[\"cell_line\"] + \"_\" + exp[\"induction_time\"]\n",
    "\n",
    "hue_order = sorted(exp[\"condition\"].unique())\n",
    "(\n",
    "    exp_durations,\n",
    "    exp_second_passage_times,\n",
    "    exp_frequencies,\n",
    "    exp_fraction_time,\n",
    "    exp_conditions,\n",
    "    exp_data_filtered,\n",
    ") = calculate_duration_second_passage_time_diff_tads(\n",
    "    data=exp,\n",
    "    resolution=30,\n",
    "    model=exp_model,\n",
    "    fraction_nan_max=0.2,\n",
    ")"
   ]
  },
  {
   "cell_type": "markdown",
   "metadata": {},
   "source": [
    "### calculate the mean contact duration and second passage time across all parameters"
   ]
  },
  {
   "cell_type": "code",
   "execution_count": 10,
   "metadata": {
    "scrolled": true
   },
   "outputs": [],
   "source": [
    "mean = pd.DataFrame()\n",
    "alldata = pd.DataFrame()\n",
    "sim_duration_distributions = pd.DataFrame()\n",
    "for distances in all_tad_sizes_dataset:\n",
    "    for cond, distances_selected in distances.groupby(\"condition\"):\n",
    "        distances_selected.condition = distances_selected.uniqueid.map(\n",
    "            lambda x: str(x)[:-2]\n",
    "        )\n",
    "        distances_selected.condition = distances_selected.uniqueid\n",
    "        (\n",
    "            durations,\n",
    "            second_passage_times,\n",
    "            frequencies,\n",
    "            fraction_time,\n",
    "            conditions,\n",
    "            data,\n",
    "        ) = calculate_duration_second_passage_time_diff_tads(\n",
    "            distances_selected,\n",
    "            resolution=30,\n",
    "            model=results[cond],\n",
    "            tad_size_flag=True,\n",
    "        )\n",
    "        tmp = pd.DataFrame(\n",
    "            durations.groupby(\"cell_line\").mean()[\"contact_duration\"]\n",
    "        ).reset_index()\n",
    "        tmp[\"contact_duration_std\"] = (durations.groupby(\"cell_line\")\n",
    "            .std()[\"contact_duration\"]\n",
    "            .values)\n",
    "        tmp[\"contact_duration_sem\"] = (durations.groupby(\"cell_line\")\n",
    "            .sem()[\"contact_duration\"]\n",
    "            .values)\n",
    "        tmp[\"second_passage_time\"] = (\n",
    "            second_passage_times.groupby(\"cell_line\")\n",
    "            .mean()[\"second_passage_time\"]\n",
    "            .values\n",
    "        )\n",
    "        tmp[\"second_passage_time_std\"] = (\n",
    "            second_passage_times.groupby(\"cell_line\")\n",
    "            .std()[\"second_passage_time\"]\n",
    "            .values\n",
    "        )\n",
    "        tmp[\"second_passage_time_sem\"] = (\n",
    "            second_passage_times.groupby(\"cell_line\")\n",
    "            .sem()[\"second_passage_time\"]\n",
    "            .values\n",
    "        )\n",
    "        tmp[\"frequency\"] = (\n",
    "            1 / (frequencies.groupby(\"cell_line\").mean()[\"frequency\"].values) * 1000\n",
    "        )\n",
    "        tmp[\"frequency_std\"] = (\n",
    "            1 / (frequencies.groupby(\"cell_line\").std()[\"frequency\"].values) * 1000\n",
    "        )\n",
    "        tmp[\"frequency_sem\"] = (\n",
    "            1 / (frequencies.groupby(\"cell_line\").std()[\"frequency\"].values) * 1000\n",
    "        )\n",
    "        tmp[\"condition\"] = cond\n",
    "        mean = pd.concat([mean, tmp])\n",
    "        alldata = pd.concat([data, alldata])\n",
    "\n",
    "    mean[[\"tad_size\", \"speed\", \"loading\", \"unloading\"]] = mean[\"condition\"].str.extract(\n",
    "        r\"([\\d+]*)_([\\d+]*)\\.([\\d]\\.[\\d+]*)_([\\d]\\.[\\d+]*)\", expand=True\n",
    "    )\n",
    "    mean[\"ctcf\"] = mean[\"cell_line\"]"
   ]
  },
  {
   "cell_type": "markdown",
   "metadata": {},
   "source": [
    "### Extracting gaussian means of HMM model from simulated data"
   ]
  },
  {
   "cell_type": "code",
   "execution_count": 11,
   "metadata": {},
   "outputs": [],
   "source": [
    "gaussian_means = pd.DataFrame()\n",
    "\n",
    "for key, model in results.items():\n",
    "    tmp = pd.DataFrame(model.means_, columns=[\"gaussian_means\"])\n",
    "    tmp[\"state\"] = [\"looped\", \"unlooped\"]\n",
    "    tmp[\"condition\"] = key\n",
    "    gaussian_means = pd.concat([gaussian_means, tmp])\n",
    "gaussian_means[[\"tad_size\", \"speed\", \"loading\", \"unloading\"]] = gaussian_means[\n",
    "    \"condition\"\n",
    "].str.extract(r\"([\\d+]*)_([\\d+]*)\\.([\\d]\\.[\\d+]*)_([\\d]\\.[\\d+]*)\", expand=True)"
   ]
  },
  {
   "cell_type": "markdown",
   "metadata": {},
   "source": [
    "### calculate distance of gaussian means between simulation and experiments"
   ]
  },
  {
   "cell_type": "code",
   "execution_count": 12,
   "metadata": {},
   "outputs": [],
   "source": [
    "dist_gaussian_means_looped = gaussian_means[[\"gaussian_means\", \"condition\"]][\n",
    "    gaussian_means.state == \"looped\"\n",
    "]\n",
    "dist_gaussian_means_unlooped = gaussian_means[[\"gaussian_means\", \"condition\"]][\n",
    "    gaussian_means.state == \"unlooped\"\n",
    "]\n",
    "dist_gaussian_means_looped[\"gaussian_means\"] = (\n",
    "    np.abs(dist_gaussian_means_looped[\"gaussian_means\"].values - 0.1493922) / 0.1493922\n",
    ")\n",
    "dist_gaussian_means_unlooped[\"gaussian_means\"] = (\n",
    "    np.abs(dist_gaussian_means_unlooped[\"gaussian_means\"].values - 0.28807371)\n",
    "    / 0.28807371\n",
    ")\n",
    "\n",
    "dist_gaussian_means = pd.merge(\n",
    "    dist_gaussian_means_looped, dist_gaussian_means_unlooped, on=\"condition\"\n",
    ")\n",
    "# since we want to keep only the looped state, I could have done this more easily\n",
    "dist_gaussian_means[\n",
    "    \"dist_gaussian_means\"\n",
    "] = dist_gaussian_means.gaussian_means_x  # + dist_gaussian_means.gaussian_means_y"
   ]
  },
  {
   "cell_type": "markdown",
   "metadata": {},
   "source": [
    "### Plot Gaussian mean as heatmap"
   ]
  },
  {
   "cell_type": "code",
   "execution_count": 13,
   "metadata": {
    "scrolled": true
   },
   "outputs": [
    {
     "name": "stderr",
     "output_type": "stream",
     "text": [
      "posx and posy should be finite values\n",
      "posx and posy should be finite values\n"
     ]
    },
    {
     "data": {
      "image/png": "[encoded data removed]",
      "text/plain": [
       "<Figure size 864x360 with 4 Axes>"
      ]
     },
     "metadata": {
      "needs_background": "light"
     },
     "output_type": "display_data"
    }
   ],
   "source": [
    "pdf = PdfPages(\n",
    "    f\"/tungstenfs/scratch/ggiorget/pavel/code_projects/systematic_chrodyn_simulations/langevin_simulations/analysis_sweep/revision1/diff_tads/{dataset_name}_2states_HMM_neighbor_{nneighbor}.pdf\"\n",
    ")\n",
    "\n",
    "speed = \"17500\"\n",
    "exp_looped = 0.1493922\n",
    "cmap = matplotlib.colors.LinearSegmentedColormap.from_list(\n",
    "    \"\", [(1, 1, 1), (69 / 255, 83 / 255, 162 / 255), (1, 1, 1)]\n",
    ")\n",
    "norm = mcolors.TwoSlopeNorm(\n",
    "    vmin=exp_looped * 0.5, vcenter=exp_looped, vmax=exp_looped * 1.5\n",
    ")\n",
    "fig, ax = plt.subplots(1, 2, figsize=(12, 5))\n",
    "gaussian_means = gaussian_means.astype({\"tad_size\": \"int32\"})\n",
    "sns.heatmap(\n",
    "    gaussian_means[(gaussian_means.state == \"looped\") & (gaussian_means.speed == speed)]\n",
    "    .replace({\"tad_size\": conversion_beads_to_kb_int})\n",
    "    .pivot(\"tad_size\", \"unloading\", \"gaussian_means\")\n",
    "    .sort_values(by=[\"tad_size\"], ascending=False),\n",
    "    annot=True,\n",
    "    cmap=cmap,\n",
    "    cbar_kws={\"label\": \"gaussian_means looped\"},\n",
    "    norm=norm,\n",
    "    ax=ax[0],\n",
    ")\n",
    "ax[0].set_title(f\"exp value looped {exp_looped}\")\n",
    "\n",
    "exp_unlooped = 0.28807371\n",
    "norm = mcolors.TwoSlopeNorm(\n",
    "    vmin=exp_unlooped * 0.5, vcenter=exp_unlooped, vmax=exp_unlooped * 1.5\n",
    ")\n",
    "\n",
    "sns.heatmap(\n",
    "    gaussian_means[\n",
    "        (gaussian_means.state == \"unlooped\") & (gaussian_means.speed == speed)\n",
    "    ]\n",
    "    .replace({\"tad_size\": conversion_beads_to_kb_int})\n",
    "    .pivot(\"tad_size\", \"unloading\", \"gaussian_means\")\n",
    "    .sort_values(by=[\"tad_size\"], ascending=False),\n",
    "    annot=True,\n",
    "    cmap=cmap,\n",
    "    cbar_kws={\"label\": \"gaussian_means looped\"},\n",
    "    norm=norm,\n",
    "    ax=ax[1],\n",
    ")\n",
    "ax[1].set_title(f\"exp value unlooped {exp_unlooped}\")\n",
    "plt.suptitle(f\"Gaussian means speed: {speed}\")\n",
    "plt.show()\n",
    "#pdf.savefig(fig)"
   ]
  },
  {
   "cell_type": "markdown",
   "metadata": {},
   "source": [
    "### Plot average proximal state duration"
   ]
  },
  {
   "cell_type": "code",
   "execution_count": 14,
   "metadata": {},
   "outputs": [
    {
     "data": {
      "image/png": "[encoded data removed]",
      "text/plain": [
       "<Figure size 432x360 with 1 Axes>"
      ]
     },
     "metadata": {
      "needs_background": "light"
     },
     "output_type": "display_data"
    }
   ],
   "source": [
    "# ctcf_off = 270\n",
    "speed = \"17500\"\n",
    "ctcf_off = 378.529412\n",
    "ctcf_on = 981.293706\n",
    "norm = mcolors.TwoSlopeNorm(vmin=ctcf_off * 0, vcenter=ctcf_off, vmax=ctcf_off * 2)\n",
    "mean = mean.astype({\"tad_size\": \"int32\"})\n",
    "\n",
    "fig, ax = plt.subplots(figsize=(6, 5))\n",
    "for ctcf, sdf in (\n",
    "    mean[(mean.speed == speed)]\n",
    "    .reset_index()\n",
    "    .replace({\"tad_size\": conversion_beads_to_kb_int})\n",
    "    .sort_values(by=[\"tad_size\"], ascending=False)\n",
    "    .groupby(\"ctcf\")\n",
    "):\n",
    "    x = sdf.tad_size.values\n",
    "    y = sdf.contact_duration.values\n",
    "    yerr = sdf.contact_duration_sem.values\n",
    "    lower, upper = y - yerr, y + yerr\n",
    "    ax.plot(x, y, label=f\"{ctcf}\")\n",
    "    ax.plot(x, lower, color=\"tab:blue\", alpha=0.1)\n",
    "    ax.plot(x, upper, color=\"tab:blue\", alpha=0.1)\n",
    "    ax.fill_between(x, lower, upper, alpha=0.2)\n",
    "    ax.set(\n",
    "        yscale=\"log\",\n",
    "        title=\"HMM\",\n",
    "        xlabel=\"Distance between barriers, kb\",\n",
    "        ylabel=\"Duration of proximal state (s)\",\n",
    "        ylim=(50, 5000),\n",
    "    )\n",
    "plt.legend()\n",
    "plt.show()\n",
    "pdf.savefig(fig)"
   ]
  },
  {
   "cell_type": "markdown",
   "metadata": {},
   "source": [
    "### Plot average first passage time"
   ]
  },
  {
   "cell_type": "code",
   "execution_count": 15,
   "metadata": {},
   "outputs": [
    {
     "data": {
      "image/png": "[encoded data removed]",
      "text/plain": [
       "<Figure size 432x360 with 1 Axes>"
      ]
     },
     "metadata": {
      "needs_background": "light"
     },
     "output_type": "display_data"
    }
   ],
   "source": [
    "mean.loc[mean[\"second_passage_time\"] > 45000, \"second_passage_time\"] = np.nan #filter when entire track without contacts\n",
    "\n",
    "# ctcf_off = 420\n",
    "speed = \"17500\"\n",
    "ctcf_off = 798.361204\n",
    "ctcf_on = 294.606742\n",
    "norm = mcolors.TwoSlopeNorm(vmin=ctcf_off * 0, vcenter=ctcf_off, vmax=ctcf_off * 2)\n",
    "mean = mean.astype({\"tad_size\": \"int32\"})\n",
    "\n",
    "fig, ax = plt.subplots(figsize=(6, 5))\n",
    "for ctcf, sdf in (\n",
    "    mean[(mean.speed == speed)]\n",
    "    .reset_index()\n",
    "    .replace({\"tad_size\": conversion_beads_to_kb_int})\n",
    "    .sort_values(by=[\"tad_size\"], ascending=False)\n",
    "    .groupby(\"ctcf\")\n",
    "):\n",
    "    x = sdf.tad_size.values\n",
    "    y = sdf.second_passage_time.values\n",
    "    yerr_b = sdf.second_passage_time_sem.values\n",
    "    yerr = yerr_b/y**2\n",
    "    lower, upper = 1/y - yerr, 1/y + yerr\n",
    "    ax.plot(x, 1/y, label=f\"{ctcf}\")\n",
    "    ax.plot(x, lower, color=\"tab:blue\", alpha=0.1)\n",
    "    ax.plot(x, upper, color=\"tab:blue\", alpha=0.1)\n",
    "    ax.fill_between(x, lower, upper, alpha=0.2)\n",
    "    ax.set(\n",
    "        yscale=\"log\",\n",
    "        title=\"First passage time, HMM call\",\n",
    "        xlabel=\"Distance between barriers, kb\",\n",
    "        ylabel=\"First passage time, s\",\n",
    "    )\n",
    "plt.legend()\n",
    "plt.show()\n",
    "pdf.savefig(fig)"
   ]
  },
  {
   "cell_type": "markdown",
   "metadata": {},
   "source": [
    "### Plot average contact duration"
   ]
  },
  {
   "cell_type": "code",
   "execution_count": 16,
   "metadata": {},
   "outputs": [],
   "source": [
    "nneighbors = 3\n",
    "tads = [12, 123, 18, 29, 61]\n",
    "total_streaks_loop = {}\n",
    "total_streaks_unloop = {}\n",
    "\n",
    "for i in range(5):\n",
    "    for ctcf, df in all_tad_sizes_dataset_orig[i].groupby(\"ctcf\"):\n",
    "        cols2sum = [\n",
    "            x for x in df.columns[1:-7].values if abs(eval(x) + tads[i]) < nneighbors\n",
    "        ]\n",
    "        df[\"contact\"] = df[cols2sum].sum(axis=1)\n",
    "        df.loc[df[\"contact\"] > 0, \"contact\"] = 1\n",
    "        vals, _, lens = find_runs(df[\"contact\"].values)\n",
    "        total_streaks_loop[str(tads[i]) + ctcf] = lens[vals == 1]\n",
    "        total_streaks_unloop[str(tads[i]) + ctcf] = lens[vals == 0]"
   ]
  },
  {
   "cell_type": "code",
   "execution_count": 17,
   "metadata": {
    "scrolled": true
   },
   "outputs": [
    {
     "name": "stderr",
     "output_type": "stream",
     "text": [
      "/home_fmi/01/kospave/.local/lib/python3.10/site-packages/numpy/core/fromnumeric.py:3474: RuntimeWarning: Mean of empty slice.\n",
      "  return _methods._mean(a, axis=axis, dtype=dtype,\n",
      "/home_fmi/01/kospave/.local/lib/python3.10/site-packages/numpy/core/_methods.py:189: RuntimeWarning: invalid value encountered in double_scalars\n",
      "  ret = ret.dtype.type(ret / rcount)\n",
      "/home_fmi/01/kospave/.local/lib/python3.10/site-packages/numpy/core/fromnumeric.py:3757: RuntimeWarning: Degrees of freedom <= 0 for slice\n",
      "  return _methods._var(a, axis=axis, dtype=dtype, out=out, ddof=ddof,\n",
      "/home_fmi/01/kospave/.local/lib/python3.10/site-packages/numpy/core/_methods.py:222: RuntimeWarning: invalid value encountered in true_divide\n",
      "  arrmean = um.true_divide(arrmean, div, out=arrmean, casting='unsafe',\n",
      "/home_fmi/01/kospave/.local/lib/python3.10/site-packages/numpy/core/_methods.py:256: RuntimeWarning: invalid value encountered in double_scalars\n",
      "  ret = ret.dtype.type(ret / rcount)\n"
     ]
    }
   ],
   "source": [
    "gt_data_2_plot_loop = np.zeros((2, 5, 4))\n",
    "for i, ctcf in enumerate([\"on\", \"off\"]):\n",
    "    for j, tad in enumerate(sorted(tads)):\n",
    "        gt_data_2_plot_loop[i, j, 0] = tad\n",
    "        try:\n",
    "            gt_data_2_plot_loop[i, j, 1] = np.nanmean(total_streaks_loop[str(tad) + ctcf])\n",
    "        except:\n",
    "            gt_data_2_plot_loop[i, j, 1] = np.nan\n",
    "        try:\n",
    "            gt_data_2_plot_loop[i, j, 2] = np.nanstd(total_streaks_loop[str(tad) + ctcf])\n",
    "        except:\n",
    "            gt_data_2_plot_loop[i, j, 2] = np.nan\n",
    "        try:\n",
    "            gt_data_2_plot_loop[i, j, 3] = np.nanstd(\n",
    "                total_streaks_loop[str(tad) + ctcf]\n",
    "            ) / np.sqrt(len(total_streaks_loop[str(tad) + ctcf]))\n",
    "        except:\n",
    "            gt_data_2_plot_loop[i, j, 3] = np.nan"
   ]
  },
  {
   "cell_type": "code",
   "execution_count": 18,
   "metadata": {},
   "outputs": [],
   "source": [
    "gt_data_2_plot_unloop = np.zeros((2, 5, 4))\n",
    "for i, ctcf in enumerate([\"on\", \"off\"]):\n",
    "    for j, tad in enumerate(sorted(tads)):\n",
    "        gt_data_2_plot_unloop[i, j, 0] = tad\n",
    "        try:\n",
    "            gt_data_2_plot_unloop[i, j, 1] = np.nanmean(\n",
    "                total_streaks_unloop[str(tad) + ctcf]\n",
    "            )\n",
    "        except:\n",
    "            gt_data_2_plot_unloop[i, j, 1] = np.nan\n",
    "        try:\n",
    "            gt_data_2_plot_unloop[i, j, 2] = np.nanstd(\n",
    "                total_streaks_unloop[str(tad) + ctcf]\n",
    "            )\n",
    "        except:\n",
    "            gt_data_2_plot_unloop[i, j, 2] = np.nan\n",
    "        try:\n",
    "            gt_data_2_plot_unloop[i, j, 3] = np.nanstd(\n",
    "                total_streaks_unloop[str(tad) + ctcf]\n",
    "            ) / np.sqrt(len(total_streaks_unloop[str(tad) + ctcf]))\n",
    "        except:\n",
    "            gt_data_2_plot_unloop[i, j, 3] = np.nan"
   ]
  },
  {
   "cell_type": "code",
   "execution_count": 19,
   "metadata": {},
   "outputs": [
    {
     "data": {
      "image/png": "[encoded data removed]",
      "text/plain": [
       "<Figure size 432x360 with 1 Axes>"
      ]
     },
     "metadata": {
      "needs_background": "light"
     },
     "output_type": "display_data"
    },
    {
     "data": {
      "image/png": "[encoded data removed]",
      "text/plain": [
       "<Figure size 432x360 with 1 Axes>"
      ]
     },
     "metadata": {
      "needs_background": "light"
     },
     "output_type": "display_data"
    }
   ],
   "source": [
    "x = np.array([100, 150, 250, 500, 1000])\n",
    "gt_data_2_plot_unloop[0, :, 1][gt_data_2_plot_unloop[0, :, 1] > 460000] = np.nan\n",
    "gt_data_2_plot_unloop[1, :, 1][gt_data_2_plot_unloop[1, :, 1] > 460000] = np.nan\n",
    "fig, ax = plt.subplots(figsize=(6, 5))\n",
    "ax.set(\n",
    "    title=\"Ground truth data\",\n",
    "    xlabel=\"Distance between barriers, kb\",\n",
    "    ylabel=\"Contact duration, s\",\n",
    "    yscale=\"log\",\n",
    ")\n",
    "y = gt_data_2_plot_loop[1, :, 1]\n",
    "yerr = gt_data_2_plot_loop[1, :, 3]\n",
    "lower, upper = y - yerr, y + yerr\n",
    "ax.plot(x, y, label=f\"ctcf off\")\n",
    "ax.plot(x, lower, color=\"tab:blue\", alpha=0.1)\n",
    "ax.plot(x, upper, color=\"tab:blue\", alpha=0.1)\n",
    "ax.fill_between(x, lower, upper, alpha=0.2)\n",
    "\n",
    "y = gt_data_2_plot_loop[0, :, 1]\n",
    "yerr = gt_data_2_plot_loop[0, :, 3]\n",
    "lower, upper = y - yerr, y + yerr\n",
    "ax.plot(x, y, label=f\"ctcf on\")\n",
    "ax.plot(x, lower, color=\"tab:blue\", alpha=0.1)\n",
    "ax.plot(x, upper, color=\"tab:blue\", alpha=0.1)\n",
    "ax.fill_between(x, lower, upper, alpha=0.2)\n",
    "plt.legend()\n",
    "plt.show()\n",
    "pdf.savefig(fig)\n",
    "\n",
    "\n",
    "fig, ax = plt.subplots(figsize=(6, 5))\n",
    "ax.set(\n",
    "    title=\"Ground truth data\",\n",
    "    xlabel=\"Distance between barriers, kb\",\n",
    "    ylabel=\"Rate of formation of looped state, 1/s\",\n",
    "    yscale=\"log\",\n",
    ")\n",
    "y = gt_data_2_plot_unloop[1, :, 1]\n",
    "yerr_b = gt_data_2_plot_unloop[1, :, 3]\n",
    "yerr = yerr_b/y**2\n",
    "lower, upper = 1/y - yerr, 1/y + yerr\n",
    "ax.plot(x, 1/y, label=f\"ctcf off\")\n",
    "ax.plot(x, lower, color=\"tab:blue\", alpha=0.1)\n",
    "ax.plot(x, upper, color=\"tab:blue\", alpha=0.1)\n",
    "ax.fill_between(x, lower, upper, alpha=0.2)\n",
    "\n",
    "y = gt_data_2_plot_unloop[0, :, 1]\n",
    "yerr_b = gt_data_2_plot_unloop[0, :, 3]\n",
    "yerr = yerr_b/y**2\n",
    "lower, upper = 1/y - yerr, 1/y + yerr\n",
    "ax.plot(x, 1 / y, label=f\"ctcf on\")\n",
    "ax.plot(x, lower, color=\"tab:blue\", alpha=0.1)\n",
    "ax.plot(x, upper, color=\"tab:blue\", alpha=0.1)\n",
    "ax.fill_between(x, lower, upper, alpha=0.2)\n",
    "\n",
    "plt.legend()\n",
    "plt.show()\n",
    "pdf.savefig(fig)\n",
    "pdf.close()"
   ]
  },
  {
   "cell_type": "code",
   "execution_count": null,
   "metadata": {},
   "outputs": [],
   "source": []
  },
  {
   "cell_type": "code",
   "execution_count": null,
   "metadata": {},
   "outputs": [],
   "source": []
  }
 ],
 "metadata": {
  "kernelspec": {
   "display_name": "Python 3 (ipykernel)",
   "language": "python",
   "name": "python3"
  },
  "language_info": {
   "codemirror_mode": {
    "name": "ipython",
    "version": 3
   },
   "file_extension": ".py",
   "mimetype": "text/x-python",
   "name": "python",
   "nbconvert_exporter": "python",
   "pygments_lexer": "ipython3",
   "version": "3.10.2"
  }
 },
 "nbformat": 4,
 "nbformat_minor": 4
}
